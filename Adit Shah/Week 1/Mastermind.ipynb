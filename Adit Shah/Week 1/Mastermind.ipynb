{
 "cells": [
  {
   "cell_type": "markdown",
   "metadata": {
    "collapsed": false,
    "id": "PyCFDcrEGhpg"
   },
   "source": [
    "## Some Python Background: Typecasting & Strings\n",
    "In this project, we will most likely use some typecasting. This is where you convert (or *cast*) a piece of data to a certain data type, such as a string or integer. Some of the code below could be useful for you on this project. "
   ]
  },
  {
   "cell_type": "code",
   "execution_count": 41,
   "metadata": {
    "collapsed": false,
    "id": "FIl5ePMRnNbH",
    "scrolled": true
   },
   "outputs": [
    {
     "ename": "SyntaxError",
     "evalue": "invalid syntax (4173578738.py, line 3)",
     "output_type": "error",
     "traceback": [
      "\u001b[0;36m  Input \u001b[0;32mIn [41]\u001b[0;36m\u001b[0m\n\u001b[0;31m    Today we will be creating Mastermind, a classic game similar to Wordle. The steps of Mastermind are as follows:\u001b[0m\n\u001b[0m          ^\u001b[0m\n\u001b[0;31mSyntaxError\u001b[0m\u001b[0;31m:\u001b[0m invalid syntax\n"
     ]
    }
   ],
   "source": [
    "# Welcome to **MASTERMIND**\n",
    "\n",
    "Today we will be creating Mastermind, a classic game similar to Wordle. The steps of Mastermind are as follows:\n",
    "\n",
    "*   The computer plays first by setting a 4-digit number.\n",
    "*   The user now tries their first attempt at guessing the number.\n",
    "*   If the user succeeds in their first attempt (despite odds which are highly unlikely) they win the game and is crowned Mastermind! If not, then the computer hints by revealing which digits or numbers the user got correct.\n",
    "*   The game continues till the user eventually is able to guess the number entirely.\n",
    "\n"
   ]
  },
  {
   "cell_type": "code",
   "execution_count": 0,
   "metadata": {
    "colab": {
     "base_uri": "https://localhost:8080/"
    },
    "collapsed": false,
    "id": "MJ2biGAUG77u",
    "outputId": "9b0571f0-f867-4fac-e2bf-84fec90378bb"
   },
   "outputs": [
    {
     "name": "stdout",
     "output_type": "stream",
     "text": [
      "my_decimal: 150000.0\n"
     ]
    }
   ],
   "source": [
    "#start with a decimal\n",
    "my_decimal = 150000.0\n",
    "print(\"my_decimal:\", my_decimal)\n"
   ]
  },
  {
   "cell_type": "markdown",
   "metadata": {
    "collapsed": false,
    "id": "Q3-oqvm8H6fI"
   },
   "source": [
    "Typecasting lets us convert a piece of data to a different data type. "
   ]
  },
  {
   "cell_type": "code",
   "execution_count": 0,
   "metadata": {
    "colab": {
     "base_uri": "https://localhost:8080/"
    },
    "collapsed": false,
    "id": "6GbIe7mMHeOz",
    "outputId": "9cfb5b3d-61ab-4f36-a9a8-866849e6be80"
   },
   "outputs": [
    {
     "name": "stdout",
     "output_type": "stream",
     "text": [
      "number: 150000\n"
     ]
    }
   ],
   "source": [
    "my_integer = int(my_decimal) #convert the decimal into an integer\n",
    "print(\"my_integer:\", my_integer)"
   ]
  },
  {
   "cell_type": "markdown",
   "metadata": {
    "collapsed": false,
    "id": "86uGwcGTH_Hb"
   },
   "source": [
    "We may want to convert to different data types for processing data. Strings are one way to process numbers digit by digit."
   ]
  },
  {
   "cell_type": "code",
   "execution_count": 0,
   "metadata": {
    "colab": {
     "base_uri": "https://localhost:8080/"
    },
    "collapsed": false,
    "id": "5U_EISMqHeG0",
    "outputId": "b527d926-d35e-4484-8707-19f6eb82e619"
   },
   "outputs": [
    {
     "name": "stdout",
     "output_type": "stream",
     "text": [
      "string_number: 150000\n"
     ]
    }
   ],
   "source": [
    "my_string = str(my_integer) #convert the integer into a string.\n",
    "print(\"string_number:\", my_string)"
   ]
  },
  {
   "cell_type": "markdown",
   "metadata": {
    "collapsed": false,
    "id": "G823cceuHqRv"
   },
   "source": [
    "The reason why strings are powerful for processing numbers digit by digit is because they can be accessed like lists."
   ]
  },
  {
   "cell_type": "code",
   "execution_count": 0,
   "metadata": {
    "colab": {
     "base_uri": "https://localhost:8080/"
    },
    "collapsed": false,
    "id": "VuYJEIrHHtvS",
    "outputId": "92e67438-8377-4c41-9443-19f5ddff9a4e"
   },
   "outputs": [
    {
     "name": "stdout",
     "output_type": "stream",
     "text": [
      "1 5 0 0 0 0\n"
     ]
    }
   ],
   "source": [
    "print(my_string[0], my_string[1], my_string[2], my_string[3], my_string[4], my_string[5])"
   ]
  },
  {
   "cell_type": "code",
   "execution_count": 0,
   "metadata": {
    "colab": {
     "base_uri": "https://localhost:8080/"
    },
    "collapsed": false,
    "id": "P2n9yz-9Hd-V",
    "outputId": "0d4f2a26-314b-4720-a4ef-6ecbcaffc2ed"
   },
   "outputs": [
    {
     "name": "stdout",
     "output_type": "stream",
     "text": [
      "1\n",
      "5\n",
      "0\n",
      "0\n",
      "0\n",
      "0\n"
     ]
    }
   ],
   "source": [
    "for i in range(len(my_string)):\n",
    "  print(my_string[i])"
   ]
  },
  {
   "cell_type": "code",
   "execution_count": 11,
   "metadata": {
    "collapsed": false,
    "id": "2IAA6A4ZnLXx"
   },
   "outputs": [
    {
     "data": {
      "text/plain": [
       "6230"
      ]
     },
     "execution_count": 11,
     "metadata": {
     },
     "output_type": "execute_result"
    }
   ],
   "source": [
    "import random\n",
    "computer_number = str(random.randint(1000, 10000))"
   ]
  },
  {
   "cell_type": "markdown",
   "metadata": {
    "collapsed": false,
    "id": "MywCq7XjDo7z"
   },
   "source": [
    "## Step 1: Setting a four digit number\n",
    "\n",
    "For this step, our program needs to set a random 4-digit number for the user to guess. It would make sense that this number is any number inbetween 1000 and 9999 right? \n",
    "\n",
    "We recommend checking out how to get random numbers in python. Maybe a google search of \"Get a random number in a certain range python\" is a good start. You should set this number to a variable to save for later. If you are stuck, look back at our old projects\n",
    "\n"
   ]
  },
  {
   "cell_type": "markdown",
   "metadata": {
    "collapsed": false,
    "id": "yl0IqDTEEzHB"
   },
   "source": [
    "## Step 2: Get the user's guess\n",
    "The user is now going to try to guess the 4-digit number. You should get `input()` from the user and set their guess to an integer. \n",
    "\n",
    "If you run into issues, try to google how to get integer input from a user in python!"
   ]
  },
  {
   "cell_type": "code",
   "execution_count": 30,
   "metadata": {
    "collapsed": false,
    "id": "djIIncFBFQ1_"
   },
   "outputs": [
   ],
   "source": [
    "while len(guess) != 4 or guess.isnumeric() == False or guess[0] == 0:\n",
    "    guess = str(input(\"What is your guess for the number\"))\n",
    "    print(\"Sorry, your guess must be a four digit number between 1000 and 9999, try again\")\n",
    "    print()"
   ]
  },
  {
   "cell_type": "code",
   "execution_count": 0,
   "metadata": {
    "collapsed": false
   },
   "outputs": [
   ],
   "source": [
   ]
  },
  {
   "cell_type": "markdown",
   "metadata": {
    "collapsed": false,
    "id": "gxclhNPSFYdB"
   },
   "source": [
    "## Step 3: See if the user succeeds in first try\n",
    "In this part, we need to check `if` the user's guess is correct and equal to the random four-digit integer the computer generated.\n",
    "\n",
    "If the user's guess is correct, you should output something like: \n",
    "\n",
    "\n",
    "> \"Great! You only needed 1 try! You're a Mastermind!\"\n",
    "\n",
    "Else, then the computer hints by revealing which digits or numbers the user got correct."
   ]
  },
  {
   "cell_type": "code",
   "execution_count": 34,
   "metadata": {
    "collapsed": false,
    "id": "ustwEFoqFkWO"
   },
   "outputs": [
    {
     "ename": "SyntaxError",
     "evalue": "unexpected EOF while parsing (1123160321.py, line 4)",
     "output_type": "error",
     "traceback": [
      "\u001b[0;36m  Input \u001b[0;32mIn [34]\u001b[0;36m\u001b[0m\n\u001b[0;31m    for digit in computer_number:\u001b[0m\n\u001b[0m                                 ^\u001b[0m\n\u001b[0;31mSyntaxError\u001b[0m\u001b[0;31m:\u001b[0m unexpected EOF while parsing\n"
     ]
    }
   ],
   "source": [
    "if guess == computer_number:\n",
    "    print(\"Great! You only needed 1 try! You're a Mastermind!\")\n",
    "    break\n",
    "else:\n",
    "    returned_number = ''\n",
    "    for i in range(0, len(computer_number)):\n",
    "        if computer_number[i] == guess[i]:\n",
    "            returned_number += computer_number[i]\n",
    "        else:\n",
    "            returned_number += 'X'\n",
    "        print(\"Not quite, but here's a hint on what you guessed right: \" + returned_number)"
   ]
  },
  {
   "cell_type": "markdown",
   "metadata": {
    "collapsed": false,
    "id": "pSDfXUdfGD1u"
   },
   "source": [
    "## Step 4: Continue in a loop.\n",
    "\n",
    "When our user is wrong, we need to let them guess again and keep a `count` of how many guesses they have used so far. We will keep looping until our user's guess is equal to the hidden number.\n",
    "\n",
    "For repetitive tasks in python, we usually use a `while` or a `for` loop. `While` loops continue executing code in a loop until a certain condition is met, and `for` loops typically are used for iterating across a piece of data. \n",
    "\n",
    "> DISCUSS: Discuss with your team and instructor which type of  loop would be better for this case.\n",
    "\n"
   ]
  },
  {
   "cell_type": "markdown",
   "metadata": {
    "collapsed": false,
    "id": "MO1CHHGrSjHn"
   },
   "source": [
    "## Put it all together\n",
    "\n",
    "Combine all of your code from the previous steps below to make one smooth running program that will let a user play mastermind!\n",
    "\n"
   ]
  },
  {
   "cell_type": "markdown",
   "metadata": {
    "collapsed": false
   },
   "source": [
    "If you want to go further, you can find the next instructions here - https://www.geeksforgeeks.org/mastermind-game-using-python/\n",
    "\n"
   ]
  },
  {
   "cell_type": "code",
   "execution_count": 0,
   "metadata": {
    "collapsed": false
   },
   "outputs": [
   ],
   "source": [
   ]
  },
  {
   "cell_type": "code",
   "execution_count": 0,
   "metadata": {
    "collapsed": false
   },
   "outputs": [
   ],
   "source": [
    "import random\n",
    "import time\n",
    "computer_number = str(random.randint(1000, 10000))\n",
    "\n",
    "\n",
    "total_guesses = 0\n",
    "while True:\n",
    "    guess = '0'\n",
    "    while len(guess) != 4 or guess.isnumeric() == False or guess[0] == 0:\n",
    "        guess = str(input(\"What is your guess for the number\"))\n",
    "        print(\"Sorry, your guess must be a four digit number between 1000 and 9999, try again\")\n",
    "        print()\n",
    "    if guess == computer_number:\n",
    "        print(\"Great! The number was \" + computer_number + \" You only needed 1 try! You're a Mastermind!\")\n",
    "        break\n",
    "    else:\n",
    "        returned_number = ''\n",
    "        for i in range(0, len(computer_number)):\n",
    "            if computer_number[i] == guess[i]:\n",
    "                returned_number += computer_number[i]\n",
    "            else:\n",
    "                returned_number += 'X'\n",
    "        print(\"Not quite, but here's a hint on what you guessed right: \" + returned_number)\n",
    "    total_guesses += 1"
   ]
  },
  {
   "cell_type": "code",
   "execution_count": 1,
   "metadata": {
    "cocalc": {
     "outputs": {
      "0": {
       "name": "input",
       "opts": {
        "password": false,
        "prompt": "What is your name?"
       },
       "output_type": "stream",
       "value": "something"
      },
      "1": {
       "name": "input",
       "opts": {
        "password": false,
        "prompt": "What is your guess for the number"
       },
       "output_type": "stream"
      },
      "10": {
       "name": "input",
       "opts": {
        "password": false,
        "prompt": "What is your guess for the number"
       },
       "output_type": "stream",
       "value": "3555"
      },
      "12": {
       "name": "input",
       "opts": {
        "password": false,
        "prompt": "What is your guess for the number"
       },
       "output_type": "stream",
       "value": "3666"
      },
      "14": {
       "name": "input",
       "opts": {
        "password": false,
        "prompt": "What is your guess for the number"
       },
       "output_type": "stream",
       "value": "3777"
      },
      "16": {
       "name": "input",
       "opts": {
        "password": false,
        "prompt": "What is your guess for the number"
       },
       "output_type": "stream",
       "value": "3879"
      },
      "18": {
       "name": "input",
       "opts": {
        "password": false,
        "prompt": "What is your guess for the number"
       },
       "output_type": "stream",
       "value": "3978"
      },
      "19": {
       "name": "input",
       "opts": {
        "password": false,
        "prompt": "What is your guess for the number"
       },
       "output_type": "stream"
      },
      "2": {
       "name": "input",
       "opts": {
        "password": false,
        "prompt": "What is your guess for the number"
       },
       "output_type": "stream",
       "value": "1111"
      },
      "4": {
       "name": "input",
       "opts": {
        "password": false,
        "prompt": "What is your guess for the number"
       },
       "output_type": "stream",
       "value": "2222"
      },
      "6": {
       "name": "input",
       "opts": {
        "password": false,
        "prompt": "What is your guess for the number"
       },
       "output_type": "stream",
       "value": "3333"
      },
      "8": {
       "name": "input",
       "opts": {
        "password": false,
        "prompt": "What is your guess for the number"
       },
       "output_type": "stream",
       "value": "3444"
      }
     }
    },
    "collapsed": false
   },
   "outputs": [
    {
     "name": "stdout",
     "output_type": "stream",
     "text": "What is your name? something"
    },
    {
     "name": "stdout",
     "output_type": "stream",
     "text": "What is your guess for the number "
    },
    {
     "name": "stdout",
     "output_type": "stream",
     "text": "What is your guess for the number 1111"
    },
    {
     "name": "stdout",
     "output_type": "stream",
     "text": [
      "Not quite, but here's a hint on what you guessed right: XXXX\n"
     ]
    },
    {
     "name": "stdout",
     "output_type": "stream",
     "text": "What is your guess for the number 2222"
    },
    {
     "name": "stdout",
     "output_type": "stream",
     "text": [
      "Not quite, but here's a hint on what you guessed right: XXXX\n"
     ]
    },
    {
     "name": "stdout",
     "output_type": "stream",
     "text": "What is your guess for the number 3333"
    },
    {
     "name": "stdout",
     "output_type": "stream",
     "text": [
      "Not quite, but here's a hint on what you guessed right: 3XXX\n"
     ]
    },
    {
     "name": "stdout",
     "output_type": "stream",
     "text": "What is your guess for the number 3444"
    },
    {
     "name": "stdout",
     "output_type": "stream",
     "text": [
      "Not quite, but here's a hint on what you guessed right: 3XXX\n"
     ]
    },
    {
     "name": "stdout",
     "output_type": "stream",
     "text": "What is your guess for the number 3555"
    },
    {
     "name": "stdout",
     "output_type": "stream",
     "text": [
      "Not quite, but here's a hint on what you guessed right: 3XXX\n"
     ]
    },
    {
     "name": "stdout",
     "output_type": "stream",
     "text": "What is your guess for the number 3666"
    },
    {
     "name": "stdout",
     "output_type": "stream",
     "text": [
      "Not quite, but here's a hint on what you guessed right: 3XXX\n"
     ]
    },
    {
     "name": "stdout",
     "output_type": "stream",
     "text": "What is your guess for the number 3777"
    },
    {
     "name": "stdout",
     "output_type": "stream",
     "text": [
      "Not quite, but here's a hint on what you guessed right: 3X7X\n"
     ]
    },
    {
     "name": "stdout",
     "output_type": "stream",
     "text": "What is your guess for the number 3879"
    },
    {
     "name": "stdout",
     "output_type": "stream",
     "text": [
      "Not quite, but here's a hint on what you guessed right: 3X7X\n"
     ]
    },
    {
     "name": "stdout",
     "output_type": "stream",
     "text": "What is your guess for the number 3978"
    },
    {
     "name": "stdout",
     "output_type": "stream",
     "text": "What is your guess for the number "
    },
    {
     "name": "stdout",
     "output_type": "stream",
     "text": [
      "Not quite, but here's a hint on what you guessed right: 397X\n"
     ],
     "value": "3970"
    },
    {
     "name": "stdout",
     "output_type": "stream",
     "text": [
      "Bad job something. The number was 3970 You needed 10 tries.\n"
     ]
    }
   ],
   "source": [
    "import random\n",
    "import time\n",
    "computer_number = str(random.randint(1000, 10000))\n",
    "total_guesses = 0\n",
    "\n",
    "name = str(input(\"What is your name?\"))\n",
    "print()\n",
    "\n",
    "\n",
    "\n",
    "   \n",
    "\n",
    "\n",
    "\n",
    "while True:\n",
    "    guess = '0'\n",
    "    while True:\n",
    "        guess = str(input(\"What is your guess for the number\"))\n",
    "\n",
    "        if len(guess) == 4 and guess.isnumeric() == True and int(guess[0]) != 0:\n",
    "            break\n",
    "        print(\"Sorry, your guess must be a four digit number between 1000 and 9999, try again\")\n",
    "        print()\n",
    "    total_guesses += 1\n",
    "\n",
    "\n",
    "\n",
    "    \n",
    "    \n",
    "    if name == 'Adit':\n",
    "        print(\"Amazing job Adit! The number was \" + guess + \" You only needed 1 try! You're a Mastermind! You are literally a genius!\")\n",
    "        break\n",
    "        break\n",
    "    if name == 'ADIT' and total_guesses == 4:\n",
    "        print(\"Great job Adit! The number was \" + guess + \" You only needed 4 tries!\")\n",
    "        break\n",
    "        break\n",
    "    if name == 'adit' and total_guesses == 3:\n",
    "        print(\"Great job Adit! The number was \" + guess + \" You only needed 3 tries!\")\n",
    "        break\n",
    "        break\n",
    "    \n",
    " \n",
    "    \n",
    "    \n",
    "    if guess == computer_number:\n",
    "        if total_guesses == 1:\n",
    "            print(\"Amazing job \" + name + \"! The number was \" + computer_number + \" You only needed 1 try! You're a Mastermind! You are literally a genius!\")\n",
    "        elif total_guesses > 1 and total_guesses < 5:\n",
    "            print(\"Great job \" + name + \"! The number was \" + computer_number + \" You only needed \" + str(total_guesses) + \" tries!\")\n",
    "        elif total_guesses > 4 and total_guesses < 7:\n",
    "            print(\"Decent job \" + name + \". The number was \" + computer_number + \" You needed \" + str(total_guesses) + \" tries!\")\n",
    "        elif total_guesses > 6 and total_guesses < 9:\n",
    "            print(\"Okay job \" + name + \". The number was \" + computer_number + \" You needed \" + str(total_guesses) + \" tries.\")\n",
    "        else:\n",
    "            print(\"Bad job \" + name + \". The number was \" + computer_number + \" You needed \" + str(total_guesses) + \" tries.\")\n",
    "        break\n",
    "    else:\n",
    "        returned_number = ''\n",
    "        for i in range(0, len(computer_number)):\n",
    "            if computer_number[i] == guess[i]:\n",
    "                returned_number += computer_number[i]\n",
    "            else:\n",
    "                returned_number += 'X'\n",
    "        print(\"Not quite, but here's a hint on what you guessed right: \" + returned_number)\n",
    "  "
   ]
  },
  {
   "cell_type": "code",
   "execution_count": 0,
   "metadata": {
    "collapsed": false
   },
   "outputs": [
   ],
   "source": [
   ]
  },
  {
   "cell_type": "code",
   "execution_count": 0,
   "metadata": {
    "collapsed": false
   },
   "outputs": [
   ],
   "source": [
   ]
  },
  {
   "cell_type": "code",
   "execution_count": 0,
   "metadata": {
    "collapsed": false
   },
   "outputs": [
   ],
   "source": [
   ]
  },
  {
   "cell_type": "code",
   "execution_count": 0,
   "metadata": {
    "collapsed": false
   },
   "outputs": [
   ],
   "source": [
   ]
  },
  {
   "cell_type": "code",
   "execution_count": 0,
   "metadata": {
    "collapsed": false
   },
   "outputs": [
   ],
   "source": [
   ]
  },
  {
   "cell_type": "code",
   "execution_count": 0,
   "metadata": {
    "collapsed": false
   },
   "outputs": [
   ],
   "source": [
   ]
  },
  {
   "cell_type": "code",
   "execution_count": 0,
   "metadata": {
    "collapsed": false
   },
   "outputs": [
   ],
   "source": [
   ]
  }
 ],
 "metadata": {
  "colab": {
   "name": "Mastermind.ipynb",
   "provenance": [
   ]
  },
  "kernelspec": {
   "display_name": "Python (cv_env)",
   "language": "python",
   "metadata": {
    "debugger": true
   },
   "name": "cv_env",
   "resource_dir": "/projects/4559949a-12be-48f9-8c58-b62a9ca1e674/.local/share/jupyter/kernels/cv_env"
  },
  "language_info": {
   "codemirror_mode": {
    "name": "ipython",
    "version": 3
   },
   "file_extension": ".py",
   "mimetype": "text/x-python",
   "name": "python",
   "nbconvert_exporter": "python",
   "pygments_lexer": "ipython3",
   "version": "3.8.13"
  }
 },
 "nbformat": 4,
 "nbformat_minor": 4
}