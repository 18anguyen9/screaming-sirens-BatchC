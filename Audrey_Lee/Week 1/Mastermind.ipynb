{
 "cells": [
  {
   "cell_type": "markdown",
   "metadata": {
    "collapsed": false,
    "id": "FIl5ePMRnNbH"
   },
   "source": [
    "# Welcome to **MASTERMIND**\n",
    "\n",
    "Today we will be creating Mastermind, a classic game similar to Wordle. The steps of Mastermind are as follows:\n",
    "\n",
    "*   The computer plays first by setting a 4-digit number.\n",
    "*   The user now tries their first attempt at guessing the number.\n",
    "*   If the user succeeds in their first attempt (despite odds which are highly unlikely) they win the game and is crowned Mastermind! If not, then the computer hints by revealing which digits or numbers the user got correct.\n",
    "*   The game continues till the user eventually is able to guess the number entirely.\n",
    "\n",
    "\n"
   ]
  },
  {
   "cell_type": "markdown",
   "metadata": {
    "collapsed": false,
    "id": "PyCFDcrEGhpg"
   },
   "source": [
    "## Some Python Background: Typecasting & Strings\n",
    "In this project, we will most likely use some typecasting. This is where you convert (or *cast*) a piece of data to a certain data type, such as a string or integer. Some of the code below could be useful for you on this project. "
   ]
  },
  {
   "cell_type": "code",
   "execution_count": 0,
   "metadata": {
    "colab": {
     "base_uri": "https://localhost:8080/"
    },
    "collapsed": false,
    "id": "MJ2biGAUG77u",
    "outputId": "9b0571f0-f867-4fac-e2bf-84fec90378bb"
   },
   "outputs": [
    {
     "name": "stdout",
     "output_type": "stream",
     "text": [
      "my_decimal: 150000.0\n"
     ]
    }
   ],
   "source": [
    "#start with a decimal\n",
    "my_decimal = 150000.0\n",
    "print(\"my_decimal:\", my_decimal)\n"
   ]
  },
  {
   "cell_type": "markdown",
   "metadata": {
    "collapsed": false,
    "id": "Q3-oqvm8H6fI"
   },
   "source": [
    "Typecasting lets us convert a piece of data to a different data type. "
   ]
  },
  {
   "cell_type": "code",
   "execution_count": 0,
   "metadata": {
    "colab": {
     "base_uri": "https://localhost:8080/"
    },
    "collapsed": false,
    "id": "6GbIe7mMHeOz",
    "outputId": "9cfb5b3d-61ab-4f36-a9a8-866849e6be80"
   },
   "outputs": [
    {
     "name": "stdout",
     "output_type": "stream",
     "text": [
      "number: 150000\n"
     ]
    }
   ],
   "source": [
    "my_integer = int(my_decimal) #convert the decimal into an integer\n",
    "print(\"my_integer:\", my_integer)"
   ]
  },
  {
   "cell_type": "markdown",
   "metadata": {
    "collapsed": false,
    "id": "86uGwcGTH_Hb"
   },
   "source": [
    "We may want to convert to different data types for processing data. Strings are one way to process numbers digit by digit."
   ]
  },
  {
   "cell_type": "code",
   "execution_count": 0,
   "metadata": {
    "colab": {
     "base_uri": "https://localhost:8080/"
    },
    "collapsed": false,
    "id": "5U_EISMqHeG0",
    "outputId": "b527d926-d35e-4484-8707-19f6eb82e619"
   },
   "outputs": [
    {
     "name": "stdout",
     "output_type": "stream",
     "text": [
      "string_number: 150000\n"
     ]
    }
   ],
   "source": [
    "my_string = str(my_integer) #convert the integer into a string.\n",
    "print(\"string_number:\", my_string)"
   ]
  },
  {
   "cell_type": "markdown",
   "metadata": {
    "collapsed": false,
    "id": "G823cceuHqRv"
   },
   "source": [
    "The reason why strings are powerful for processing numbers digit by digit is because they can be accessed like lists."
   ]
  },
  {
   "cell_type": "code",
   "execution_count": 0,
   "metadata": {
    "colab": {
     "base_uri": "https://localhost:8080/"
    },
    "collapsed": false,
    "id": "VuYJEIrHHtvS",
    "outputId": "92e67438-8377-4c41-9443-19f5ddff9a4e"
   },
   "outputs": [
    {
     "name": "stdout",
     "output_type": "stream",
     "text": [
      "1 5 0 0 0 0\n"
     ]
    }
   ],
   "source": [
    "print(my_string[0], my_string[1], my_string[2], my_string[3], my_string[4], my_string[5])"
   ]
  },
  {
   "cell_type": "code",
   "execution_count": 0,
   "metadata": {
    "colab": {
     "base_uri": "https://localhost:8080/"
    },
    "collapsed": false,
    "id": "P2n9yz-9Hd-V",
    "outputId": "0d4f2a26-314b-4720-a4ef-6ecbcaffc2ed"
   },
   "outputs": [
    {
     "name": "stdout",
     "output_type": "stream",
     "text": [
      "1\n",
      "5\n",
      "0\n",
      "0\n",
      "0\n",
      "0\n"
     ]
    }
   ],
   "source": [
    "for i in range(len(my_string)):\n",
    "  print(my_string[i])"
   ]
  },
  {
   "cell_type": "markdown",
   "metadata": {
    "collapsed": false,
    "id": "MywCq7XjDo7z"
   },
   "source": [
    "## Step 1: Setting a four digit number\n",
    "For this step, our program needs to set a random 4-digit number for the user to guess. It would make sense that this number is any number inbetween 1000 and 9999 right? \n",
    "\n",
    "We recommend checking out how to get random numbers in python. Maybe a google search of \"Get a random number in a certain range python\" is a good start. You should set this number to a variable to save for later. If you are stuck, look back at our old projects"
   ]
  },
  {
   "cell_type": "code",
   "execution_count": 57,
   "metadata": {
    "collapsed": false,
    "id": "2IAA6A4ZnLXx"
   },
   "outputs": [
    {
     "name": "stdout",
     "output_type": "stream",
     "text": [
      "6944\n"
     ]
    }
   ],
   "source": [
    "import random \n",
    "a = random.randint(1000,9999) \n",
    "a = str(a)\n",
    "a\n",
    "print (a)"
   ]
  },
  {
   "cell_type": "markdown",
   "metadata": {
    "collapsed": false,
    "id": "yl0IqDTEEzHB"
   },
   "source": [
    "## Step 2: Get the user's guess\n",
    "The user is now going to try to guess the 4-digit number. You should get `input()` from the user and set their guess to an integer. \n",
    "\n",
    "If you run into issues, try to google how to get integer input from a user in python!"
   ]
  },
  {
   "cell_type": "code",
   "execution_count": 56,
   "metadata": {
    "cocalc": {
     "outputs": {
      "0": {
       "name": "input",
       "opts": {
        "password": false,
        "prompt": ""
       },
       "output_type": "stream",
       "value": "1234"
      }
     }
    },
    "collapsed": false,
    "id": "djIIncFBFQ1_"
   },
   "outputs": [
    {
     "name": "stdout",
     "output_type": "stream",
     "text": " 1234"
    },
    {
     "name": "stdout",
     "output_type": "stream",
     "text": [
      "your guess is 1234\n"
     ]
    }
   ],
   "source": [
    "b = input ()\n",
    "print (\"your guess is \" +(b)) "
   ]
  },
  {
   "cell_type": "markdown",
   "metadata": {
    "collapsed": false,
    "id": "gxclhNPSFYdB"
   },
   "source": [
    "## Step 3: See if the user succeeds in first try\n",
    "\n",
    "In this part, we need to check `if` the user's guess is correct and equal to the random four-digit integer the computer generated.\n",
    "\n",
    "If the user's guess is correct, you should output something like: \n",
    "\n",
    "> \"Great! You only needed 1 try! You're a Mastermind!\"\n",
    "\n",
    "Else, then the computer hints by revealing which digits or numbers the user got correct.\n",
    "\n"
   ]
  },
  {
   "cell_type": "code",
   "execution_count": 38,
   "metadata": {
    "collapsed": false
   },
   "outputs": [
    {
     "name": "stdout",
     "output_type": "stream",
     "text": [
      "Nice try but you got it wrong, here's what worked\n",
      "9\n",
      "worked\n",
      "9\n",
      "worked\n",
      "8\n",
      "worked\n",
      "7\n"
     ]
    }
   ],
   "source": [
    "if b == a:\n",
    "    print (\"Great! You only needed 1 try! You're a Mastermind!\")\n",
    "else:\n",
    "    print (\"Nice try but you got it wrong, here's what worked\")\n",
    "    cur_index = 0\n",
    "for char in b:\n",
    "    print(char)\n",
    "    if char ==a[cur_index]:\n",
    "        print('worked')\n",
    "    cur_index = cur_index+1"
   ]
  },
  {
   "cell_type": "code",
   "execution_count": 34,
   "metadata": {
    "collapsed": false,
    "scrolled": true
   },
   "outputs": [
    {
     "data": {
      "text/plain": [
       "('1234', '9986')"
      ]
     },
     "execution_count": 34,
     "metadata": {
     },
     "output_type": "execute_result"
    }
   ],
   "source": [
    "b,a"
   ]
  },
  {
   "cell_type": "code",
   "execution_count": 37,
   "metadata": {
    "collapsed": false
   },
   "outputs": [
    {
     "name": "stdout",
     "output_type": "stream",
     "text": [
      "9\n",
      "worked\n",
      "9\n",
      "worked\n",
      "8\n",
      "worked\n",
      "7\n"
     ]
    }
   ],
   "source": [
    "cur_index = 0\n",
    "for char in b:\n",
    "    print(char)\n",
    "    if char ==a[cur_index]:\n",
    "        print('worked')\n",
    "    cur_index = cur_index+1"
   ]
  },
  {
   "cell_type": "code",
   "execution_count": 28,
   "metadata": {
    "collapsed": false
   },
   "outputs": [
    {
     "data": {
      "text/plain": [
       "'9053'"
      ]
     },
     "execution_count": 28,
     "metadata": {
     },
     "output_type": "execute_result"
    }
   ],
   "source": [
    "a = str(a)\n",
    "a"
   ]
  },
  {
   "cell_type": "code",
   "execution_count": 0,
   "metadata": {
    "collapsed": false,
    "id": "ustwEFoqFkWO"
   },
   "outputs": [
   ],
   "source": [
    "#Otherwise, reveal which digits or numbers the user got correct - HINT: use string typecasting to determine which specific numbers are correct!"
   ]
  },
  {
   "cell_type": "markdown",
   "metadata": {
    "collapsed": false,
    "id": "pSDfXUdfGD1u"
   },
   "source": [
    "## Step 4: Continue in a loop.\n",
    "\n",
    "When our user is wrong, we need to let them guess again and keep a `count` of how many guesses they have used so far. We will keep looping until our user's guess is equal to the hidden number.\n",
    "\n",
    "For repetitive tasks in python, we usually use a `while` or a `for` loop. `While` loops continue executing code in a loop until a certain condition is met, and `for` loops typically are used for iterating across a piece of data. \n",
    "\n",
    "> DISCUSS: Discuss with your team and instructor which type of  loop would be better for this case.\n",
    "\n"
   ]
  },
  {
   "cell_type": "code",
   "execution_count": 0,
   "metadata": {
    "collapsed": false
   },
   "outputs": [
   ],
   "source": [
    " b = input ()\n",
    "    print (\"your guess is \" +(b)) \n",
    "    print (\"Great! You only needed (c) try/tries! You're a Mastermind!\""
   ]
  },
  {
   "cell_type": "code",
   "execution_count": 60,
   "metadata": {
    "collapsed": false
   },
   "outputs": [
    {
     "data": {
      "text/plain": [
       "('6944', '1234')"
      ]
     },
     "execution_count": 60,
     "metadata": {
     },
     "output_type": "execute_result"
    }
   ],
   "source": [
    "a,b"
   ]
  },
  {
   "cell_type": "code",
   "execution_count": 61,
   "metadata": {
    "cocalc": {
     "outputs": {
      "1": {
       "name": "input",
       "opts": {
        "password": false,
        "prompt": "Guess again!!"
       },
       "output_type": "stream",
       "value": "6844"
      },
      "3": {
       "name": "input",
       "opts": {
        "password": false,
        "prompt": "Guess again!!"
       },
       "output_type": "stream",
       "value": "6944"
      }
     }
    },
    "collapsed": false
   },
   "outputs": [
    {
     "name": "stdout",
     "output_type": "stream",
     "text": [
      "Nice try but you got it wrong, here's what worked\n",
      "you got this digit right: 4\n",
      "try again\n"
     ]
    },
    {
     "name": "stdout",
     "output_type": "stream",
     "text": "Guess again!! 6844"
    },
    {
     "name": "stdout",
     "output_type": "stream",
     "text": [
      "your guess is 6844\n",
      "Nice try but you got it wrong, here's what worked\n",
      "you got this digit right: 6\n",
      "you got this digit right: 4\n",
      "you got this digit right: 4\n",
      "try again\n"
     ]
    },
    {
     "name": "stdout",
     "output_type": "stream",
     "text": "Guess again!! 6944"
    },
    {
     "name": "stdout",
     "output_type": "stream",
     "text": [
      "your guess is 6944\n",
      "Great! You only needed3try/tries! You're a Mastermind!\n"
     ]
    }
   ],
   "source": [
    "c = 1\n",
    "while a != b:\n",
    "    print (\"Nice try but you got it wrong, here's what worked\")\n",
    "    cur_index = 0\n",
    "    for char in b:\n",
    "        if char ==a[cur_index]:\n",
    "            print('you got this digit right: ' + char)\n",
    "        cur_index = cur_index+1\n",
    "    print ('try again')\n",
    "    b = input('Guess again!!')\n",
    "    print(\"your guess is \" +(b)) \n",
    "    c = c+1\n",
    "print (\"Great! You only needed\" +str(c) +\"try/tries! You're a Mastermind!\")"
   ]
  },
  {
   "cell_type": "code",
   "execution_count": 51,
   "metadata": {
    "collapsed": false
   },
   "outputs": [
    {
     "data": {
      "text/plain": [
       "'hello1'"
      ]
     },
     "execution_count": 51,
     "metadata": {
     },
     "output_type": "execute_result"
    }
   ],
   "source": [
    "'hello'+str(1)"
   ]
  },
  {
   "cell_type": "code",
   "execution_count": 52,
   "metadata": {
    "collapsed": false
   },
   "outputs": [
    {
     "data": {
      "text/plain": [
       "True"
      ]
     },
     "execution_count": 52,
     "metadata": {
     },
     "output_type": "execute_result"
    }
   ],
   "source": [
    "str(1)== '1'"
   ]
  },
  {
   "cell_type": "code",
   "execution_count": 0,
   "metadata": {
    "collapsed": false,
    "id": "r7xV_F6pSiAS"
   },
   "outputs": [
   ],
   "source": [
    "# Loop until the number guessed is equal to the hidden random number\n",
    "# in each loop, process the user's guess and reveal which digits or numbers the user got correct each round. "
   ]
  },
  {
   "cell_type": "markdown",
   "metadata": {
    "collapsed": false,
    "id": "MO1CHHGrSjHn"
   },
   "source": [
    "## Put it all together\n",
    "Combine all of your code from the previous steps below to make one smooth running program that will let a user play mastermind!"
   ]
  },
  {
   "cell_type": "code",
   "execution_count": 0,
   "metadata": {
    "collapsed": false,
    "id": "28KLAYM7SlPC"
   },
   "outputs": [
   ],
   "source": [
   ]
  },
  {
   "cell_type": "markdown",
   "metadata": {
    "collapsed": false
   },
   "source": [
    "If you want to go further, you can find the next instructions here - https://www.geeksforgeeks.org/mastermind-game-using-python/"
   ]
  }
 ],
 "metadata": {
  "colab": {
   "name": "Mastermind.ipynb",
   "provenance": [
   ]
  },
  "kernelspec": {
   "display_name": "Python (cv_env)",
   "language": "python",
   "metadata": {
    "debugger": true
   },
   "name": "cv_env",
   "resource_dir": "/projects/4559949a-12be-48f9-8c58-b62a9ca1e674/.local/share/jupyter/kernels/cv_env"
  },
  "language_info": {
   "codemirror_mode": {
    "name": "ipython",
    "version": 3
   },
   "file_extension": ".py",
   "mimetype": "text/x-python",
   "name": "python",
   "nbconvert_exporter": "python",
   "pygments_lexer": "ipython3",
   "version": "3.8.13"
  }
 },
 "nbformat": 4,
 "nbformat_minor": 4
}